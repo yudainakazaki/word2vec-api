{
 "cells": [
  {
   "cell_type": "code",
   "execution_count": 10,
   "metadata": {},
   "outputs": [],
   "source": [
    "import torch\n",
    "import torchtext\n",
    "# Referred Document\n",
    "# https://www.cs.toronto.edu/~lczhang/360/lec/w05/w2v.html"
   ]
  },
  {
   "cell_type": "code",
   "execution_count": 45,
   "metadata": {},
   "outputs": [],
   "source": [
    "glove = torchtext.vocab.GloVe(name=\"6B\", # trained on Wikipedia 2014 corpus\n",
    "                              dim=50)   # embedding size = 100"
   ]
  },
  {
   "cell_type": "code",
   "execution_count": 26,
   "metadata": {},
   "outputs": [],
   "source": [
    "def getSimilarity(word1, word2):\n",
    "    x = glove[word1]\n",
    "    y = glove[word2]\n",
    "    sim = torch.cosine_similarity(x.unsqueeze(0), y.unsqueeze(0))\n",
    "    return sim.item()"
   ]
  },
  {
   "cell_type": "code",
   "execution_count": 33,
   "metadata": {},
   "outputs": [
    {
     "data": {
      "text/plain": [
       "0.6501525044441223"
      ]
     },
     "execution_count": 33,
     "metadata": {},
     "output_type": "execute_result"
    }
   ],
   "source": [
    "getSimilarity(\"science\", \"informatics\")"
   ]
  },
  {
   "cell_type": "code",
   "execution_count": 44,
   "metadata": {},
   "outputs": [
    {
     "data": {
      "text/plain": [
       "0.9334371089935303"
      ]
     },
     "execution_count": 44,
     "metadata": {},
     "output_type": "execute_result"
    }
   ],
   "source": [
    "x1 = glove[\"computer\"]\n",
    "x2 = glove[\"science\"]\n",
    "x3 = glove[\"engineering\"]\n",
    "sim = torch.cosine_similarity(x1.unsqueeze(0) + x3.unsqueeze(0), x1.unsqueeze(0) + x2.unsqueeze(0))\n",
    "sim.item()"
   ]
  },
  {
   "cell_type": "code",
   "execution_count": 46,
   "metadata": {},
   "outputs": [
    {
     "data": {
      "text/plain": [
       "0.7780497670173645"
      ]
     },
     "execution_count": 46,
     "metadata": {},
     "output_type": "execute_result"
    }
   ],
   "source": [
    "x = glove[\"science\"]\n",
    "y = glove[\"engineering\"]\n",
    "sim = torch.cosine_similarity(x.unsqueeze(0), y.unsqueeze(0))\n",
    "sim.item()"
   ]
  },
  {
   "cell_type": "code",
   "execution_count": 47,
   "metadata": {},
   "outputs": [
    {
     "data": {
      "text/plain": [
       "tensor([-6.0334e-01,  1.0577e+00, -3.0452e-01,  5.6728e-02,  6.2269e-04,\n",
       "        -1.5874e-01, -3.9343e-01, -1.6816e+00,  2.5751e-01,  9.6477e-02,\n",
       "         2.2256e-01,  4.0022e-01, -1.3319e-01,  5.0095e-01, -3.1653e-01,\n",
       "        -1.3437e-01,  3.6205e-01,  1.1403e+00, -4.6058e-01,  7.8453e-01,\n",
       "         1.1051e+00,  6.7427e-01,  3.3348e-01, -1.9985e-01,  8.8040e-01,\n",
       "        -1.5153e+00, -1.0876e+00, -9.7803e-01, -1.0249e+00, -8.1350e-02,\n",
       "         2.6487e+00, -4.7125e-01, -4.5275e-01, -2.0287e+00, -4.0910e-01,\n",
       "         2.6637e-01, -6.6804e-01,  1.1231e+00,  8.9049e-01,  2.0298e-01,\n",
       "        -2.4961e-02, -4.6865e-01,  2.5623e-01,  3.7514e-01, -1.2434e-01,\n",
       "         7.2878e-01,  9.0596e-01,  8.3551e-01,  2.2837e-04,  4.4761e-01])"
      ]
     },
     "execution_count": 47,
     "metadata": {},
     "output_type": "execute_result"
    }
   ],
   "source": [
    "x"
   ]
  },
  {
   "cell_type": "code",
   "execution_count": 49,
   "metadata": {},
   "outputs": [
    {
     "data": {
      "text/plain": [
       "tensor([[0., 0., 0., 0., 0., 0., 0., 0., 0., 0., 0., 0., 0., 0., 0., 0., 0., 0., 0., 0., 0., 0., 0., 0.,\n",
       "         0., 0., 0., 0., 0., 0., 0., 0., 0., 0., 0., 0., 0., 0., 0., 0., 0., 0., 0., 0., 0., 0., 0., 0.,\n",
       "         0., 0.]])"
      ]
     },
     "execution_count": 49,
     "metadata": {},
     "output_type": "execute_result"
    }
   ],
   "source": [
    "x = glove[\"\"].unsqueeze(0)\n",
    "x"
   ]
  },
  {
   "cell_type": "code",
   "execution_count": null,
   "metadata": {},
   "outputs": [],
   "source": []
  }
 ],
 "metadata": {
  "kernelspec": {
   "display_name": "Python 3.9.5 64-bit",
   "language": "python",
   "name": "python3"
  },
  "language_info": {
   "codemirror_mode": {
    "name": "ipython",
    "version": 3
   },
   "file_extension": ".py",
   "mimetype": "text/x-python",
   "name": "python",
   "nbconvert_exporter": "python",
   "pygments_lexer": "ipython3",
   "version": "3.9.5"
  },
  "orig_nbformat": 4,
  "vscode": {
   "interpreter": {
    "hash": "aee8b7b246df8f9039afb4144a1f6fd8d2ca17a180786b69acc140d282b71a49"
   }
  }
 },
 "nbformat": 4,
 "nbformat_minor": 2
}
